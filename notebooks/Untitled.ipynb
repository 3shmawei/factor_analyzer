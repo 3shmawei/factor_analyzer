{
 "cells": [
  {
   "cell_type": "code",
   "execution_count": 1,
   "metadata": {
    "collapsed": true
   },
   "outputs": [],
   "source": [
    "from sklearn.datasets import load_breast_cancer"
   ]
  },
  {
   "cell_type": "code",
   "execution_count": 2,
   "metadata": {
    "collapsed": true
   },
   "outputs": [],
   "source": [
    "import pandas as pd"
   ]
  },
  {
   "cell_type": "code",
   "execution_count": 3,
   "metadata": {
    "collapsed": true
   },
   "outputs": [],
   "source": [
    "bc = load_breast_cancer()"
   ]
  },
  {
   "cell_type": "code",
   "execution_count": 8,
   "metadata": {
    "collapsed": true
   },
   "outputs": [],
   "source": [
    "pd.DataFrame(bc['data'], columns=bc['feature_names']).to_csv('breast_cancer.csv')"
   ]
  },
  {
   "cell_type": "code",
   "execution_count": 10,
   "metadata": {},
   "outputs": [
    {
     "name": "stderr",
     "output_type": "stream",
     "text": [
      "/Users/jbiggs/anaconda/lib/python3.6/site-packages/IPython/core/interactiveshell.py:2698: DtypeWarning: Columns (5,6,19,20,21,22,23,25,26,29,30,31,32,33,39,40,41,42,46,47,48,49,50,56,58,59,60,61,62,63,64,65,66,68,69,71,72,74,75,77,78,80,81,89,90,91,93,95,96,97,99,101,114,115,117,118,148,153,162,163,164,165,166,167,168,169,170,171,172,173,174,175,176,178,179,180,183,184,185,186,187,188,189,190,191,192,194,195,196,197,199,200,201,202,203,205,206,213,214,215,217,218,219,220,222,223,224,226,227,229,230,232,233,234,235,236,237,238,239,240,243,244,245,246,247,248,249,250,251,252,253,254,256,257,258,259,260,261,262,263,265,266,267,268,269,271,273,275,276,277) have mixed types. Specify dtype option on import or set low_memory=False.\n",
      "  interactivity=interactivity, compiler=compiler, result=result)\n"
     ]
    }
   ],
   "source": [
    "data = pd.read_csv('../../mb.tsv', sep='\\t')"
   ]
  },
  {
   "cell_type": "code",
   "execution_count": 15,
   "metadata": {},
   "outputs": [
    {
     "data": {
      "text/plain": [
       "array(['ID', 'PROMPT', 'GD1', 'GD2', 'GD3',\n",
       "       'ABSTRACT_NOUNS_LESS127PLUS4_TYPE', 'ACA_DOWN_CNT_NORM',\n",
       "       'ADVISORY_1', 'ADVISORY_1024', 'ADVISORY_128', 'ADVISORY_16',\n",
       "       'ADVISORY_2', 'ADVISORY_2048', 'ADVISORY_256', 'ADVISORY_32',\n",
       "       'ADVISORY_4', 'ADVISORY_512', 'ADVISORY_64', 'ADVISORY_8',\n",
       "       'ADV_CAUSATIVE', 'ADV_COND', 'ADV_FOCUS', 'ADV_INSTANTIATION',\n",
       "       'ADV_NEG', 'ADV_PLACEPRO', 'ADV_PLACE_NORM', 'ADV_TEMP',\n",
       "       'ADV_TIME_NORM', 'ATTRIB_ADJ_CNT_NORM', 'BW5', 'BW6', 'BW7', 'BW8',\n",
       "       'CHARS', 'CNFDNC_ZMAXCOSINE', 'CNFDNC_ZPROMPTCOS',\n",
       "       'CNFDNC_ZSDSCORE', 'CNFDNC_ZTT', 'CNFDNC_ZVL', 'COLPREP',\n",
       "       'COLPREPSVF', 'COMPARATIVEMARKER', 'CONJ_ADD_CNT_NORM',\n",
       "       'CONTRACTIONS', 'COORD_CONJ', 'COS_EGW', 'COS_EGW1', 'COS_EGW2',\n",
       "       'COS_EGW3', 'COS_EGW4', 'COS_EGW5', 'COS_EGW6', 'COS_EIW', 'CTS',\n",
       "       'CVA_TOKENS', 'CVA_TYPES', 'DEMONSTRATIVE', 'DET_DEFINITE',\n",
       "       'DET_INDEFINITE', 'DET_POSS', 'DIFFWDS', 'DIS_COH',\n",
       "       'DIS_COH_length', 'DIS_COH_lexchain', 'DT_AVG_UNIT_LEN', 'DT_BC',\n",
       "       'DT_BM', 'DT_BO', 'DT_BS', 'DT_BT', 'DT_BX', 'DT_CB', 'DT_CM',\n",
       "       'DT_CO', 'DT_CS', 'DT_CT', 'DT_CX', 'DT_MB', 'DT_MC', 'DT_MO',\n",
       "       'DT_MS', 'DT_MT', 'DT_MX', 'DT_OB', 'DT_OC', 'DT_OM', 'DT_OS',\n",
       "       'DT_OT', 'DT_OX', 'DT_SB', 'DT_SC', 'DT_SM', 'DT_SO', 'DT_ST',\n",
       "       'DT_SX', 'DT_TB', 'DT_TC', 'DT_TM', 'DT_TO', 'DT_TS', 'DT_TX',\n",
       "       'DT_UNITS', 'DT_XB', 'DT_XC', 'DT_XM', 'DT_XO', 'DT_XS', 'DT_XT',\n",
       "       'DT_XX', 'DWU', 'EGW', 'EIW', 'ENGINEVERSION', 'EXCLAMATIONMARKS',\n",
       "       'GRAMMAR', 'GRAMMARP', 'GRAMMATICALITY', 'GUMS101', 'GUMS102',\n",
       "       'GUMS103', 'GUMS104', 'GUMS105', 'GUMS106', 'GUMS107', 'GUMS108',\n",
       "       'GUMS109', 'GUMS201', 'GUMS202', 'GUMS203', 'GUMS204', 'GUMS205',\n",
       "       'GUMS206', 'GUMS207', 'GUMS208', 'GUMS209', 'GUMS210', 'GUMS301',\n",
       "       'GUMS302', 'GUMS303', 'GUMS304', 'GUMS305', 'GUMS306', 'GUMS307',\n",
       "       'GUMS308', 'GUMS309', 'GUMS310', 'GUMS311', 'GUMS312', 'GUMS401',\n",
       "       'GUMS402', 'GUMS403', 'GUMS404', 'GUMS405', 'GUMS406', 'GUMS501',\n",
       "       'GUMS502', 'GUMS503', 'GUMS504', 'GUMS505', 'GUMS506', 'HS',\n",
       "       'INTENSIFIER', 'LOGDTA', 'LOGDTU', 'LOGG', 'LOGM', 'LOGS', 'LOGU',\n",
       "       'LOGWORDS', 'LectureOverlap', 'MAXCAT', 'MAXCAT_COSINE',\n",
       "       'MAXCOSINE', 'MECHANICS', 'MECHANICSP', 'METRIC1', 'METRIC2',\n",
       "       'MODAL_NEC_NORM', 'MODAL_POSS_NORM', 'MODAL_PRED_NORM',\n",
       "       'MODAL_VOL_NORM', 'MODELID', 'MODELVERSION', 'MULTIPLIER',\n",
       "       'NEGATEA', 'NEGATEP', 'NEGATER', 'NEGATES', 'NOMINALIZATION_LEE',\n",
       "       'NOUN_VERB_RATIO', 'NSQG', 'NSQM', 'NSQS', 'NSQSTYLE', 'NSQU',\n",
       "       'NUMERAL', 'NWF_MEDIAN', 'OK_CNT', 'ORDINAL', 'PASS_CONSTR_NORM',\n",
       "       'PAST_PRFCT_ASPECT_VRB_CNT_NORM', 'PAT_COS', 'PREP_ERR_CNT',\n",
       "       'PRFCT_ASPECT_VRB_CNT_NORM', 'PROMPTSOURCE', 'PRONOUN_INDEF',\n",
       "       'PRONOUN_IT', 'PRONOUN_PL1', 'PRONOUN_POSS', 'PRONOUN_SG1',\n",
       "       'PROVERB', 'QUANTIFIER_NEGUNIV', 'QUANTIFIER_SUBSET',\n",
       "       'QUANTIFIER_UNIV', 'QUESTIONMARKS', 'REFLEXIVE', 'REFSCORE2',\n",
       "       'REFSCORE3', 'SENTENCES', 'SOURCE_USE', 'SOURCE_USE2', 'ST',\n",
       "       'STYLE', 'STYLEP', 'SUBORDINATOR_OTHER', 'SUBORD_CAUS',\n",
       "       'SUBORD_CONCES', 'SUBORD_MULTIFUNC_TOKEN', 'SUBORD_MULTIFUNC_TYPE',\n",
       "       'SUBORD_TEMP', 'SVF', 'TOPICNESS', 'TO_INFIN_NORM', 'TT', 'UFOCODE',\n",
       "       'UNBOUNDEDSCORE', 'USAGE', 'USAGEP', 'VAL_COS', 'VAL_COS_W2', 'VL',\n",
       "       'WAT_ERR_CDE', 'WD', 'WF_10PCT', 'WF_20PCT', 'WF_30PCT', 'WF_40PCT',\n",
       "       'WF_50PCT', 'WF_LOW1', 'WF_LOW2', 'WF_LOW3', 'WF_LOW4', 'WF_LOW5',\n",
       "       'WF_LOW5P', 'WF_MEDIAN', 'WH', 'WH_ADVERB', 'WH_DETERMINER',\n",
       "       'WH_POSSESSIVE', 'WH_PRONOUN', 'WORDLEN', 'WORDLN_2', 'WORDS',\n",
       "       'WORDS2', 'WORD_CNT', 'WRDS_ENCL_QUOT', 'WTDMEANCOS', 'ZMAXCOSINE',\n",
       "       'ZPROMPTCOS', 'ZSDSCORE', 'ZTT', 'ZVL', 'advisoryflag', 'gumscore',\n",
       "       'orgdevstylescore', 'rawscore', 'score', 'wordchoicescore'], dtype=object)"
      ]
     },
     "execution_count": 15,
     "metadata": {},
     "output_type": "execute_result"
    }
   ],
   "source": [
    "data.columns.values"
   ]
  },
  {
   "cell_type": "code",
   "execution_count": 28,
   "metadata": {},
   "outputs": [],
   "source": [
    "new_data = data[['DT_AVG_UNIT_LEN',\n",
    "                 'DT_BM', 'DT_BT', 'DT_MS', 'DT_MT','DT_SC', 'DT_SM',\n",
    "                'DT_TM', 'DT_TS', 'DT_UNITS']].replace(['.'], 0)"
   ]
  },
  {
   "cell_type": "code",
   "execution_count": 32,
   "metadata": {},
   "outputs": [],
   "source": [
    "data_new = new_data.astype(float)"
   ]
  },
  {
   "cell_type": "code",
   "execution_count": 34,
   "metadata": {},
   "outputs": [
    {
     "data": {
      "text/plain": [
       "DT_AVG_UNIT_LEN    float64\n",
       "DT_BM              float64\n",
       "DT_BT              float64\n",
       "DT_MS              float64\n",
       "DT_MT              float64\n",
       "DT_SC              float64\n",
       "DT_SM              float64\n",
       "DT_TM              float64\n",
       "DT_TS              float64\n",
       "DT_UNITS           float64\n",
       "dtype: object"
      ]
     },
     "execution_count": 34,
     "metadata": {},
     "output_type": "execute_result"
    }
   ],
   "source": [
    "data_new.dtypes"
   ]
  },
  {
   "cell_type": "code",
   "execution_count": null,
   "metadata": {
    "collapsed": true
   },
   "outputs": [],
   "source": []
  }
 ],
 "metadata": {
  "kernelspec": {
   "display_name": "Python 3",
   "language": "python",
   "name": "python3"
  },
  "language_info": {
   "codemirror_mode": {
    "name": "ipython",
    "version": 3
   },
   "file_extension": ".py",
   "mimetype": "text/x-python",
   "name": "python",
   "nbconvert_exporter": "python",
   "pygments_lexer": "ipython3",
   "version": "3.6.0"
  }
 },
 "nbformat": 4,
 "nbformat_minor": 2
}
