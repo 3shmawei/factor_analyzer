{
 "cells": [
  {
   "cell_type": "code",
   "execution_count": 1,
   "metadata": {
    "collapsed": true
   },
   "outputs": [],
   "source": [
    "library(psych)\n",
    "\n",
    "options(warn = -1)"
   ]
  },
  {
   "cell_type": "code",
   "execution_count": null,
   "metadata": {
    "collapsed": true
   },
   "outputs": [],
   "source": [
    "input.dir <- \"../data\"\n",
    "output.dir <- \"../expected\""
   ]
  },
  {
   "cell_type": "code",
   "execution_count": null,
   "metadata": {
    "collapsed": true
   },
   "outputs": [],
   "source": [
    "files <- list.files(path = input.dir, pattern = \"*.csv\", all.files = TRUE,\n",
    "                    full.names = TRUE, recursive = TRUE, ignore.case = TRUE)"
   ]
  },
  {
   "cell_type": "code",
   "execution_count": null,
   "metadata": {
    "collapsed": true
   },
   "outputs": [],
   "source": [
    "save.factor.info <- function(file.list,\n",
    "                             output.directory) {\n",
    "\n",
    "\n",
    "    factors <- c(2, 3);\n",
    "    rotations <- c(\"promax\", \"varimax\", \"none\");\n",
    "    methods <- c(\"ml\", \"uls\");\n",
    "    \n",
    "    # loop through all files\n",
    "    for (file in files) {\n",
    "        \n",
    "        # read in the data\n",
    "        data <- read.csv(file);\n",
    "        \n",
    "        # get file name (no extension) and sub-directory name\n",
    "        file.name <- sapply(strsplit(file, \"/\"), tail, 1);\n",
    "        file.name <- gsub(\".csv\", \"\", file.name);\n",
    "\n",
    "        sub.dir <- file.path(output.directory, file.name);\n",
    "\n",
    "        # create directory for output\n",
    "        dir.create(sub.dir, showWarnings = FALSE);\n",
    "        \n",
    "        for (factor in factors) {\n",
    "            \n",
    "            for (rotation in rotations) {\n",
    "                \n",
    "                for (method in methods) {\n",
    "        \n",
    "                    # get the factor analysis results\n",
    "                    factor.results <- fa(data,\n",
    "                                         factor,\n",
    "                                         rotate = rotation,\n",
    "                                         fm = method);\n",
    "\n",
    "                    # get factor results info\n",
    "                    loadings <- factor.results$loadings;\n",
    "                    values <- factor.results$values;\n",
    "                    e.values <- factor.results$e.values;\n",
    "                    uniquenesses <- factor.results$uniquenesses;\n",
    "                    communalities <- factor.results$communalities;\n",
    "                    \n",
    "                    info <- list('loading_' = loadings, 'value_' = values, 'evalues_' = e.values, \n",
    "                                 'uniquenesses_' = uniquenesses, 'communalities_' = communalities)\n",
    "                    \n",
    "                    i <- 1;\n",
    "                    data.and.files <- list();\n",
    "                    for (name in names(info)) {\n",
    "                        \n",
    "                        this.data <- info[[name]]\n",
    "                        \n",
    "                        this.file <- paste(sub.dir, \"/\", name,\n",
    "                                           method, \"_\", rotation, \"_\", \n",
    "                                           toString(factor), \"_\",\n",
    "                                           file.name, \".csv\", sep=\"\");\n",
    "\n",
    "                        new.list <- list(name=this.data, file=this.file);\n",
    "                        data.and.files[[i]] <- new.list;\n",
    "                        i = i + 1;\n",
    "\n",
    "                    };\n",
    "        \n",
    "                    # loop through files and save as CSVs\n",
    "                    for (item in data.and.files) {\n",
    "\n",
    "                        # write out file\n",
    "                        write.csv(item$name,\n",
    "                                  file = item$file,\n",
    "                                  row.names = TRUE,\n",
    "                                  na=\"\");\n",
    "\n",
    "                    };\n",
    "                    \n",
    "                };\n",
    "\n",
    "            };\n",
    "\n",
    "        };\n",
    "\n",
    "    };\n",
    "\n",
    "};"
   ]
  },
  {
   "cell_type": "code",
   "execution_count": null,
   "metadata": {
    "collapsed": true,
    "scrolled": false
   },
   "outputs": [],
   "source": [
    "save.factor.info(files, output.dir)"
   ]
  },
  {
   "cell_type": "code",
   "execution_count": null,
   "metadata": {
    "collapsed": true
   },
   "outputs": [],
   "source": []
  }
 ],
 "metadata": {
  "kernelspec": {
   "display_name": "R",
   "language": "R",
   "name": "ir"
  },
  "language_info": {
   "codemirror_mode": "r",
   "file_extension": ".r",
   "mimetype": "text/x-r-source",
   "name": "R",
   "pygments_lexer": "r",
   "version": "3.4.1"
  }
 },
 "nbformat": 4,
 "nbformat_minor": 2
}
